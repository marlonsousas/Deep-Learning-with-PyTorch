{
  "nbformat": 4,
  "nbformat_minor": 0,
  "metadata": {
    "colab": {
      "provenance": []
    },
    "kernelspec": {
      "name": "python3",
      "display_name": "Python 3"
    },
    "language_info": {
      "name": "python"
    }
  },
  "cells": [
    {
      "cell_type": "code",
      "execution_count": null,
      "metadata": {
        "id": "ii-oLvo22cD-"
      },
      "outputs": [],
      "source": [
        "import torch\n",
        "import numpy as np"
      ]
    },
    {
      "cell_type": "markdown",
      "source": [
        "# Criando um tensor"
      ],
      "metadata": {
        "id": "wMYEJmVl3WCd"
      }
    },
    {
      "cell_type": "code",
      "source": [
        "tensor_A = torch.rand(3, 3)\n",
        "tensor_A"
      ],
      "metadata": {
        "colab": {
          "base_uri": "https://localhost:8080/"
        },
        "id": "wQVz3Lmj3R5g",
        "outputId": "8caf1c7d-7009-4b34-a0ee-70d34fbd1811"
      },
      "execution_count": null,
      "outputs": [
        {
          "output_type": "execute_result",
          "data": {
            "text/plain": [
              "tensor([[0.6324, 0.3184, 0.0189],\n",
              "        [0.7994, 0.2585, 0.7924],\n",
              "        [0.5002, 0.6341, 0.6143]])"
            ]
          },
          "metadata": {},
          "execution_count": 2
        }
      ]
    },
    {
      "cell_type": "code",
      "source": [
        "tensor_B = torch.from_numpy(np.random.rand(3, 3))\n",
        "tensor_B"
      ],
      "metadata": {
        "colab": {
          "base_uri": "https://localhost:8080/"
        },
        "id": "H269SrcB3fAA",
        "outputId": "03af4fe7-1dbb-4964-d781-631a22bb7751"
      },
      "execution_count": null,
      "outputs": [
        {
          "output_type": "execute_result",
          "data": {
            "text/plain": [
              "tensor([[0.2299, 0.5370, 0.7215],\n",
              "        [0.7904, 0.0972, 0.4803],\n",
              "        [0.2208, 0.8440, 0.1320]], dtype=torch.float64)"
            ]
          },
          "metadata": {},
          "execution_count": 3
        }
      ]
    },
    {
      "cell_type": "markdown",
      "source": [
        "# Camada convolucional 2D"
      ],
      "metadata": {
        "id": "PKyZE_oT4Vhm"
      }
    },
    {
      "cell_type": "code",
      "source": [
        "input_shape = (8, 3, 16, 16)\n",
        "x = torch.rand(input_shape)\n",
        "out_conv = torch.nn.Conv2d(3, 16, 3, padding=\"same\")\n",
        "out_conv(x).shape"
      ],
      "metadata": {
        "colab": {
          "base_uri": "https://localhost:8080/"
        },
        "id": "XjWDjjzZ3qbA",
        "outputId": "fefd3e58-fdb8-4e4b-b850-e1e6504a6079"
      },
      "execution_count": null,
      "outputs": [
        {
          "output_type": "execute_result",
          "data": {
            "text/plain": [
              "torch.Size([8, 16, 16, 16])"
            ]
          },
          "metadata": {},
          "execution_count": 5
        }
      ]
    },
    {
      "cell_type": "code",
      "source": [
        "out_conv = torch.nn.Conv2d(3, 16, 3)\n",
        "print(out_conv(x).shape)\n",
        "\n",
        "out_conv = torch.nn.Conv2d(3, 12, (3, 5))\n",
        "print(out_conv(x).shape)\n",
        "\n",
        "out_conv = torch.nn.Conv2d(3, 24, (3, 3), stride=(2, 2))\n",
        "print(out_conv(x).shape)"
      ],
      "metadata": {
        "colab": {
          "base_uri": "https://localhost:8080/"
        },
        "id": "01fXfL-848bl",
        "outputId": "888b688e-a448-4fd8-89f8-5076e89ffb7a"
      },
      "execution_count": null,
      "outputs": [
        {
          "output_type": "stream",
          "name": "stdout",
          "text": [
            "torch.Size([8, 16, 14, 14])\n",
            "torch.Size([8, 12, 14, 12])\n",
            "torch.Size([8, 24, 7, 7])\n"
          ]
        }
      ]
    },
    {
      "cell_type": "code",
      "source": [
        "#Teste mudando o valor do tamanho dos filtros, dos strides e da imagem.\n",
        "\n",
        "input_shape = (8, 3, 16, 16)\n",
        "x = torch.rand(input_shape)\n",
        "\n",
        "in_channel = 3\n",
        "out_channel = 24\n",
        "filter_size = (5,5)\n",
        "stri = (3,3)\n",
        "\n",
        "\n",
        "out_conv = torch.nn.Conv2d(in_channel, out_channel, filter_size, stride=stri)\n",
        "print(out_conv(x).shape)"
      ],
      "metadata": {
        "colab": {
          "base_uri": "https://localhost:8080/"
        },
        "id": "1L3cp6_96Rgi",
        "outputId": "009f2883-f1a9-461a-eb53-9c54dc80d46e"
      },
      "execution_count": null,
      "outputs": [
        {
          "output_type": "stream",
          "name": "stdout",
          "text": [
            "torch.Size([8, 24, 4, 4])\n"
          ]
        }
      ]
    },
    {
      "cell_type": "markdown",
      "source": [
        "\n",
        "**Se quiser ir mais a fundo:**\n",
        "\n",
        "[Documentação ](https://www.tensorflow.org/api_docs/python/tf/keras/layers/Conv2D)\n",
        "\n"
      ],
      "metadata": {
        "id": "TVnBbLOb5Mm2"
      }
    },
    {
      "cell_type": "markdown",
      "source": [
        "# Camada convolucional 3D\n"
      ],
      "metadata": {
        "id": "DNGjS_L27vsH"
      }
    },
    {
      "cell_type": "code",
      "source": [
        "input_shape =(8, 3, 16, 16, 16)\n",
        "\n",
        "x = torch.rand(input_shape)\n",
        "out_conv = torch.nn.Conv3d(3, 5, 5)\n",
        "out_conv(x).shape"
      ],
      "metadata": {
        "colab": {
          "base_uri": "https://localhost:8080/"
        },
        "id": "mU6I3H0p7Nuj",
        "outputId": "941e5970-cec1-4147-b72b-88030ab1498f"
      },
      "execution_count": null,
      "outputs": [
        {
          "output_type": "execute_result",
          "data": {
            "text/plain": [
              "torch.Size([8, 5, 12, 12, 12])"
            ]
          },
          "metadata": {},
          "execution_count": 10
        }
      ]
    },
    {
      "cell_type": "markdown",
      "source": [
        "**Se quiser ir mais a fundo:**\n",
        "\n",
        "[Documentação ](https://www.tensorflow.org/api_docs/python/tf/keras/layers/Conv3D)\n"
      ],
      "metadata": {
        "id": "FRu6935e8LiC"
      }
    },
    {
      "cell_type": "markdown",
      "source": [
        "# Pooling"
      ],
      "metadata": {
        "id": "SnG1e6Tp8O1p"
      }
    },
    {
      "cell_type": "code",
      "source": [
        "input_shape =(8, 3, 16, 16)\n",
        "x = torch.rand(input_shape)\n",
        "\n",
        "max_pool_2d = tf.keras.layers.MaxPooling2D(pool_size=(2,2))(x)\n",
        "max_pool_2d.shape"
      ],
      "metadata": {
        "colab": {
          "base_uri": "https://localhost:8080/"
        },
        "id": "AES1sXke8GCN",
        "outputId": "98c67363-c9c9-4087-8dee-d650686a1199"
      },
      "execution_count": null,
      "outputs": [
        {
          "output_type": "execute_result",
          "data": {
            "text/plain": [
              "TensorShape([8, 8, 8, 3])"
            ]
          },
          "metadata": {},
          "execution_count": 34
        }
      ]
    },
    {
      "cell_type": "code",
      "source": [
        "#Visualize como o pooling 2D faz a redução de dimensionalidade\n",
        "\n",
        "input_shape = (1, 1, 3, 3)\n",
        "x = torch.rand(input_shape)\n",
        "print(x)\n",
        "\n",
        "max_pool_2d = torch.nn.MaxPool2d(2, stride=1)\n",
        "print(max_pool_2d(x))"
      ],
      "metadata": {
        "colab": {
          "base_uri": "https://localhost:8080/"
        },
        "id": "9jRZ5jwt87CD",
        "outputId": "f6da31e8-0f8b-4c28-81f5-f26919672dcc"
      },
      "execution_count": null,
      "outputs": [
        {
          "output_type": "stream",
          "name": "stdout",
          "text": [
            "tensor([[[[0.6915, 0.7724, 0.5290],\n",
            "          [0.5301, 0.6904, 0.3067],\n",
            "          [0.4211, 0.8669, 0.7050]]]])\n",
            "tensor([[[[0.7724, 0.7724],\n",
            "          [0.8669, 0.8669]]]])\n"
          ]
        }
      ]
    },
    {
      "cell_type": "markdown",
      "source": [
        "**Se quiser ir mais a fundo:**\n",
        "\n",
        "[Documentação ](https://www.tensorflow.org/api_docs/python/tf/keras/layers/MaxPooling2D)"
      ],
      "metadata": {
        "id": "A2FkLTch-MPg"
      }
    },
    {
      "cell_type": "markdown",
      "source": [
        "# UpSampling"
      ],
      "metadata": {
        "id": "lX1TImTh9isB"
      }
    },
    {
      "cell_type": "code",
      "source": [
        "input_shape = (8, 3, 16, 16)\n",
        "x = torch.rand(input_shape)\n",
        "up_sampl = torch.nn.Upsample((32, 32))\n",
        "up_sampl(x).shape"
      ],
      "metadata": {
        "colab": {
          "base_uri": "https://localhost:8080/"
        },
        "id": "Wg-Mgd0e9Lub",
        "outputId": "2556db6e-b36b-465a-ae06-957de1c9cce5"
      },
      "execution_count": null,
      "outputs": [
        {
          "output_type": "execute_result",
          "data": {
            "text/plain": [
              "torch.Size([8, 3, 32, 32])"
            ]
          },
          "metadata": {},
          "execution_count": 23
        }
      ]
    },
    {
      "cell_type": "code",
      "source": [
        "input_shape = (1, 1, 3, 3)\n",
        "x = torch.rand(input_shape)\n",
        "print(x)\n",
        "\n",
        "up_sampl = torch.nn.Upsample((5, 5))\n",
        "print(up_sampl(x))"
      ],
      "metadata": {
        "colab": {
          "base_uri": "https://localhost:8080/"
        },
        "id": "KVGwqc2U94iV",
        "outputId": "c7dd3db9-a9e2-4205-e2c7-35bbd4a54dda"
      },
      "execution_count": null,
      "outputs": [
        {
          "output_type": "stream",
          "name": "stdout",
          "text": [
            "tensor([[[[0.7717, 0.5225, 0.9381],\n",
            "          [0.0808, 0.9149, 0.7152],\n",
            "          [0.1129, 0.6630, 0.4165]]]])\n",
            "tensor([[[[0.7717, 0.7717, 0.5225, 0.5225, 0.9381],\n",
            "          [0.7717, 0.7717, 0.5225, 0.5225, 0.9381],\n",
            "          [0.0808, 0.0808, 0.9149, 0.9149, 0.7152],\n",
            "          [0.0808, 0.0808, 0.9149, 0.9149, 0.7152],\n",
            "          [0.1129, 0.1129, 0.6630, 0.6630, 0.4165]]]])\n"
          ]
        }
      ]
    },
    {
      "cell_type": "markdown",
      "source": [
        "**Se quiser ir mais a fundo:**\n",
        "\n",
        "[Documentação ](https://www.tensorflow.org/api_docs/python/tf/keras/layers/UpSampling2D)"
      ],
      "metadata": {
        "id": "gLOctA4--R9X"
      }
    },
    {
      "cell_type": "markdown",
      "source": [
        "# ConvTranspose2D"
      ],
      "metadata": {
        "id": "tr7eAnsP88zn"
      }
    },
    {
      "cell_type": "code",
      "source": [
        "input_shape = (8, 3, 16, 16)\n",
        "x = torch.rand(input_shape)\n",
        "out_conv = torch.nn.Conv2d(3, 16, 3)\n",
        "out_conv(x).shape"
      ],
      "metadata": {
        "colab": {
          "base_uri": "https://localhost:8080/"
        },
        "id": "tedfmTgp9gha",
        "outputId": "0d850578-30f0-4d63-8a37-e27b83fad27e"
      },
      "execution_count": null,
      "outputs": [
        {
          "output_type": "execute_result",
          "data": {
            "text/plain": [
              "torch.Size([8, 16, 14, 14])"
            ]
          },
          "metadata": {},
          "execution_count": 43
        }
      ]
    },
    {
      "cell_type": "code",
      "source": [
        "input_shape = (8, 3, 16, 16)\n",
        "x = torch.rand(input_shape)\n",
        "out_conv = torch.nn.ConvTranspose2d(3, 16, 3)\n",
        "out_conv(x).shape"
      ],
      "metadata": {
        "colab": {
          "base_uri": "https://localhost:8080/"
        },
        "id": "1qURy_mp87ho",
        "outputId": "9dff599f-b538-4eec-b025-65e2ca3c3271"
      },
      "execution_count": null,
      "outputs": [
        {
          "output_type": "execute_result",
          "data": {
            "text/plain": [
              "torch.Size([8, 16, 18, 18])"
            ]
          },
          "metadata": {},
          "execution_count": 42
        }
      ]
    },
    {
      "cell_type": "markdown",
      "source": [
        "# Flatten"
      ],
      "metadata": {
        "id": "f-8EcHQD-ypd"
      }
    },
    {
      "cell_type": "code",
      "source": [
        "input_shape = (1, 1, 3, 3)\n",
        "x = torch.rand(input_shape)\n",
        "print(x)\n",
        "\n",
        "flat = torch.flatten(x)\n",
        "flat.shape"
      ],
      "metadata": {
        "colab": {
          "base_uri": "https://localhost:8080/"
        },
        "id": "f4m9ob6G9-ZW",
        "outputId": "e7addef0-a812-4a93-b9ef-03a291616e91"
      },
      "execution_count": null,
      "outputs": [
        {
          "output_type": "stream",
          "name": "stdout",
          "text": [
            "tensor([[[[0.5737, 0.9776, 0.8984],\n",
            "          [0.2312, 0.0915, 0.5160],\n",
            "          [0.6596, 0.4769, 0.4375]]]])\n"
          ]
        },
        {
          "output_type": "execute_result",
          "data": {
            "text/plain": [
              "torch.Size([9])"
            ]
          },
          "metadata": {},
          "execution_count": 27
        }
      ]
    },
    {
      "cell_type": "markdown",
      "source": [
        "# Exercício\n",
        "\n",
        "Dado um input do tamanho (8, 30, 16, 16), crie uma arquitetura estilo autoencoder que retorne um output igual.\n",
        "\n",
        "Na arquitetura deve ter pelo menos 8 camadas (pelo menos 1 convolucional, 1 upsampling e 1 maxpooling, etc)"
      ],
      "metadata": {
        "id": "ovTdhEyp_CNO"
      }
    },
    {
      "cell_type": "code",
      "source": [
        "input_shape = (8, 3, 16, 16)"
      ],
      "metadata": {
        "id": "hZjyaBKG-0cn"
      },
      "execution_count": null,
      "outputs": []
    },
    {
      "cell_type": "code",
      "source": [
        "class UNet(torch.nn.Module):\n",
        "    def __init__(self, n_class):\n",
        "        super().__init__()\n",
        "\n",
        "        #Encoder\n",
        "        self.e11 = torch.nn.Conv2d(3, 64, kernel_size=3, padding=1)\n",
        "        self.e12 =  torch.nn.Conv2d(64, 64, kernel_size=3, padding=1)\n",
        "        self.pool1 =  torch.nn.MaxPool2d(kernel_size=2, stride=2)\n",
        "\n",
        "        # Decoder\n",
        "        self.upconv1 =  torch.nn.ConvTranspose2d(1024, 512, kernel_size=2, stride=2)\n",
        "\n",
        "        # Output layer\n",
        "        self.outconv = torch.Conv2d(64, n_class, kernel_size=1)"
      ],
      "metadata": {
        "id": "O7qRhn_2_E1d"
      },
      "execution_count": null,
      "outputs": []
    },
    {
      "cell_type": "code",
      "source": [
        "  def forward(self, x):\n",
        "        # Encoder\n",
        "        xe11 = relu(self.e11(x))\n",
        "        xe12 = relu(self.e12(xe11))\n",
        "\n",
        "        # Output layer\n",
        "        out = self.outconv(xe12)\n",
        "\n",
        "        return out"
      ],
      "metadata": {
        "id": "DiqUcqHxAcuH"
      },
      "execution_count": null,
      "outputs": []
    }
  ]
}